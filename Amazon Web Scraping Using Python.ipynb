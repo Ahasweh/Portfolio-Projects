{
 "cells": [
  {
   "cell_type": "code",
   "execution_count": 1,
   "metadata": {},
   "outputs": [],
   "source": [
    "from bs4 import BeautifulSoup\n",
    "import requests\n",
    "import smtplib\n",
    "import time\n",
    "import datetime"
   ]
  },
  {
   "cell_type": "code",
   "execution_count": 7,
   "metadata": {},
   "outputs": [],
   "source": [
    "# Prepare connection strings and params\n",
    "# To get the headers for your brawser, go to 'http://httpbin.org/get' and copy \n",
    "\n",
    "URL='https://www.amazon.com/Python-Crash-Course-2nd-Edition/dp/1593279280/ref=sr_1_1?crid=SL71HNE5XEYL&keywords=python+in+books&qid=1654343722&sprefix=Python+in+%2Caps%2C326&sr=8-1'\n",
    "\n",
    "\n",
    "headers = {\"User-Agent\": \"Mozilla/5.0 (Windows NT 10.0; Win64; x64) AppleWebKit/537.36 (KHTML, like Gecko) Chrome/102.0.0.0 Safari/537.36\", \"Accept-Encoding\":\"gzip, deflate\", \"Accept\":\"text/html,application/xhtml+xml,application/xml;q=0.9,*/*;q=0.8\", \"DNT\":\"1\",\"Connection\":\"close\", \"Upgrade-Insecure-Requests\":\"1\"}\n",
    "\n",
    "\n",
    "page=requests.get(URL, headers=headers)\n",
    "\n",
    "Soup1=BeautifulSoup(page.content,\"html.parser\")\n",
    "Soup2=BeautifulSoup(Soup1.prettify(),\"html.parser\")\n",
    "title=Soup2.find(id='productTitle').get_text().strip()\n",
    "\n"
   ]
  },
  {
   "cell_type": "code",
   "execution_count": 8,
   "metadata": {},
   "outputs": [
    {
     "name": "stdout",
     "output_type": "stream",
     "text": [
      "The title of the book is:Python Crash Course, 2nd Edition: A Hands-On, Project-Based Introduction to Programming\n"
     ]
    }
   ],
   "source": [
    "\n",
    "#print(Soup2)\n",
    "#print(title)\n",
    "print(f\"The title of the book is:{title}\")"
   ]
  },
  {
   "cell_type": "code",
   "execution_count": 11,
   "metadata": {},
   "outputs": [
    {
     "name": "stdout",
     "output_type": "stream",
     "text": [
      "21.49\n"
     ]
    }
   ],
   "source": [
    "price=Soup2.find(id=\"newBuyBoxPrice\").get_text().strip()[1:]\n",
    "print(price)"
   ]
  },
  {
   "cell_type": "code",
   "execution_count": 15,
   "metadata": {},
   "outputs": [
    {
     "name": "stdout",
     "output_type": "stream",
     "text": [
      "2022-06-05\n"
     ]
    }
   ],
   "source": [
    "# to add time stamp\n",
    "import datetime\n",
    "today=datetime.date.today()\n",
    "print(today)"
   ]
  },
  {
   "cell_type": "code",
   "execution_count": 18,
   "metadata": {},
   "outputs": [],
   "source": [
    "import csv\n",
    "\n",
    "header=['Book Title','Price in USD','Date']\n",
    "data=[title, price,today]\n",
    "\n",
    "with open('Amzn-Dataset.csv','w',newline='',encoding='UTF8')as f:\n",
    "    writer=csv.writer(f)\n",
    "    writer.writerow(header)\n",
    "    writer.writerow(data)"
   ]
  },
  {
   "cell_type": "code",
   "execution_count": 26,
   "metadata": {},
   "outputs": [
    {
     "name": "stdout",
     "output_type": "stream",
     "text": [
      "                                          Book Title  Price in USD        Date\n",
      "0  Python Crash Course, 2nd Edition: A Hands-On, ...         21.49  2022-06-05\n",
      "1  Python Crash Course, 2nd Edition: A Hands-On, ...         21.49  2022-06-05\n",
      "2  Python Crash Course, 2nd Edition: A Hands-On, ...         21.49  2022-06-05\n"
     ]
    }
   ],
   "source": [
    "# Reading Data \n",
    "import pandas as pd\n",
    "df=pd.read_csv(r'C:\\Users\\ahmadhas\\Amzn-Dataset.csv')\n",
    "print(df)"
   ]
  },
  {
   "cell_type": "code",
   "execution_count": 25,
   "metadata": {},
   "outputs": [],
   "source": [
    "## Adding data \n",
    "with open('Amzn-Dataset.csv','a+',newline='',encoding='UTF8')as f:\n",
    "    writer=csv.writer(f)\n",
    "    writer.writerow(data)"
   ]
  },
  {
   "cell_type": "code",
   "execution_count": 49,
   "metadata": {},
   "outputs": [],
   "source": [
    "def send_mail():\n",
    "    server = smtplib.SMTP_SSL('smtp.gmail.com',465)\n",
    "    server.ehlo()\n",
    "    #server.starttls()\n",
    "    server.ehlo()\n",
    "    server.login('ahasweh@gmail.com','xxxxxxxxxxxxxx')\n",
    "    \n",
    "    subject = \"The Shirt you want is below $15! Now is your chance to buy!\"\n",
    "    body = \"Alex, This is the moment we have been waiting for. Now is your chance to pick up the shirt of your dreams. Don't mess it up! Link here: https://www.amazon.com/Funny-Data-Systems-Business-Analyst/dp/B07FNW9FGJ/ref=sr_1_3?dchild=1&keywords=data+analyst+tshirt&qid=1626655184&sr=8-3\"\n",
    "   \n",
    "    msg = f\"Subject: {subject}\\n\\n{body}\"\n",
    "    \n",
    "    server.sendmail(\n",
    "        'ahasweh@gmail.com',\n",
    "        msg\n",
    "     \n",
    "    )"
   ]
  },
  {
   "cell_type": "code",
   "execution_count": 52,
   "metadata": {},
   "outputs": [],
   "source": [
    "# To keep track of the price on a daily basis\n",
    "\n",
    "def track_price():\n",
    "    URL='https://www.amazon.com/Python-Crash-Course-2nd-Edition/dp/1593279280/ref=sr_1_1?crid=SL71HNE5XEYL&keywords=python+in+books&qid=1654343722&sprefix=Python+in+%2Caps%2C326&sr=8-1'\n",
    "    headers = {\"User-Agent\": \"Mozilla/5.0 (Windows NT 10.0; Win64; x64) AppleWebKit/537.36 (KHTML, like Gecko) Chrome/102.0.0.0 Safari/537.36\", \"Accept-Encoding\":\"gzip, deflate\", \"Accept\":\"text/html,application/xhtml+xml,application/xml;q=0.9,*/*;q=0.8\", \"DNT\":\"1\",\"Connection\":\"close\", \"Upgrade-Insecure-Requests\":\"1\"}\n",
    "    page=requests.get(URL, headers=headers)\n",
    "    Soup1=BeautifulSoup(page.content,\"html.parser\")\n",
    "    Soup2=BeautifulSoup(Soup1.prettify(),\"html.parser\")\n",
    "    \n",
    "    title=Soup2.find(id='productTitle').get_text().strip()\n",
    "    price=Soup2.find(id=\"newBuyBoxPrice\").get_text().strip()[1:]\n",
    "    \n",
    "    import datetime\n",
    "    today=datetime.date.today()\n",
    "    \n",
    "    import csv\n",
    "    header=['Book Title','Price in USD','Date']\n",
    "    data=[title, price,today]\n",
    "    \n",
    "    ## Adding data \n",
    "    with open('Amzn-Dataset.csv','a+',newline='',encoding='UTF8')as f:\n",
    "        writer=csv.writer(f)\n",
    "        writer.writerow(data)\n",
    "    if (price<22):\n",
    "        send_mail()\n",
    "    \n",
    "\n",
    "    "
   ]
  },
  {
   "cell_type": "code",
   "execution_count": null,
   "metadata": {},
   "outputs": [],
   "source": []
  },
  {
   "cell_type": "code",
   "execution_count": 54,
   "metadata": {},
   "outputs": [],
   "source": [
    "\n",
    "while i in range(5):\n",
    "    track_price()\n",
    "    #time.sleep(5)\n",
    "    i=i+1\n",
    "    \n",
    "    "
   ]
  },
  {
   "cell_type": "code",
   "execution_count": 48,
   "metadata": {},
   "outputs": [
    {
     "data": {
      "text/html": [
       "<div>\n",
       "<style scoped>\n",
       "    .dataframe tbody tr th:only-of-type {\n",
       "        vertical-align: middle;\n",
       "    }\n",
       "\n",
       "    .dataframe tbody tr th {\n",
       "        vertical-align: top;\n",
       "    }\n",
       "\n",
       "    .dataframe thead th {\n",
       "        text-align: right;\n",
       "    }\n",
       "</style>\n",
       "<table border=\"1\" class=\"dataframe\">\n",
       "  <thead>\n",
       "    <tr style=\"text-align: right;\">\n",
       "      <th></th>\n",
       "      <th>Book Title</th>\n",
       "      <th>Price in USD</th>\n",
       "      <th>Date</th>\n",
       "    </tr>\n",
       "  </thead>\n",
       "  <tbody>\n",
       "    <tr>\n",
       "      <th>0</th>\n",
       "      <td>Python Crash Course, 2nd Edition: A Hands-On, ...</td>\n",
       "      <td>21.49</td>\n",
       "      <td>2022-06-05</td>\n",
       "    </tr>\n",
       "    <tr>\n",
       "      <th>1</th>\n",
       "      <td>Python Crash Course, 2nd Edition: A Hands-On, ...</td>\n",
       "      <td>21.49</td>\n",
       "      <td>2022-06-05</td>\n",
       "    </tr>\n",
       "    <tr>\n",
       "      <th>2</th>\n",
       "      <td>Python Crash Course, 2nd Edition: A Hands-On, ...</td>\n",
       "      <td>21.49</td>\n",
       "      <td>2022-06-05</td>\n",
       "    </tr>\n",
       "    <tr>\n",
       "      <th>3</th>\n",
       "      <td>Python Crash Course, 2nd Edition: A Hands-On, ...</td>\n",
       "      <td>21.49</td>\n",
       "      <td>2022-06-05</td>\n",
       "    </tr>\n",
       "    <tr>\n",
       "      <th>4</th>\n",
       "      <td>Python Crash Course, 2nd Edition: A Hands-On, ...</td>\n",
       "      <td>21.49</td>\n",
       "      <td>2022-06-05</td>\n",
       "    </tr>\n",
       "    <tr>\n",
       "      <th>5</th>\n",
       "      <td>Python Crash Course, 2nd Edition: A Hands-On, ...</td>\n",
       "      <td>21.49</td>\n",
       "      <td>2022-06-05</td>\n",
       "    </tr>\n",
       "    <tr>\n",
       "      <th>6</th>\n",
       "      <td>Python Crash Course, 2nd Edition: A Hands-On, ...</td>\n",
       "      <td>21.49</td>\n",
       "      <td>2022-06-05</td>\n",
       "    </tr>\n",
       "    <tr>\n",
       "      <th>7</th>\n",
       "      <td>Python Crash Course, 2nd Edition: A Hands-On, ...</td>\n",
       "      <td>21.49</td>\n",
       "      <td>2022-06-05</td>\n",
       "    </tr>\n",
       "    <tr>\n",
       "      <th>8</th>\n",
       "      <td>Python Crash Course, 2nd Edition: A Hands-On, ...</td>\n",
       "      <td>21.49</td>\n",
       "      <td>2022-06-05</td>\n",
       "    </tr>\n",
       "    <tr>\n",
       "      <th>9</th>\n",
       "      <td>Python Crash Course, 2nd Edition: A Hands-On, ...</td>\n",
       "      <td>21.49</td>\n",
       "      <td>2022-06-05</td>\n",
       "    </tr>\n",
       "    <tr>\n",
       "      <th>10</th>\n",
       "      <td>Python Crash Course, 2nd Edition: A Hands-On, ...</td>\n",
       "      <td>21.49</td>\n",
       "      <td>2022-06-05</td>\n",
       "    </tr>\n",
       "  </tbody>\n",
       "</table>\n",
       "</div>"
      ],
      "text/plain": [
       "                                           Book Title  Price in USD  \\\n",
       "0   Python Crash Course, 2nd Edition: A Hands-On, ...         21.49   \n",
       "1   Python Crash Course, 2nd Edition: A Hands-On, ...         21.49   \n",
       "2   Python Crash Course, 2nd Edition: A Hands-On, ...         21.49   \n",
       "3   Python Crash Course, 2nd Edition: A Hands-On, ...         21.49   \n",
       "4   Python Crash Course, 2nd Edition: A Hands-On, ...         21.49   \n",
       "5   Python Crash Course, 2nd Edition: A Hands-On, ...         21.49   \n",
       "6   Python Crash Course, 2nd Edition: A Hands-On, ...         21.49   \n",
       "7   Python Crash Course, 2nd Edition: A Hands-On, ...         21.49   \n",
       "8   Python Crash Course, 2nd Edition: A Hands-On, ...         21.49   \n",
       "9   Python Crash Course, 2nd Edition: A Hands-On, ...         21.49   \n",
       "10  Python Crash Course, 2nd Edition: A Hands-On, ...         21.49   \n",
       "\n",
       "          Date  \n",
       "0   2022-06-05  \n",
       "1   2022-06-05  \n",
       "2   2022-06-05  \n",
       "3   2022-06-05  \n",
       "4   2022-06-05  \n",
       "5   2022-06-05  \n",
       "6   2022-06-05  \n",
       "7   2022-06-05  \n",
       "8   2022-06-05  \n",
       "9   2022-06-05  \n",
       "10  2022-06-05  "
      ]
     },
     "execution_count": 48,
     "metadata": {},
     "output_type": "execute_result"
    }
   ],
   "source": [
    "import pandas as pd\n",
    "df=pd.read_csv(r'C:\\Users\\ahmadhas\\Amzn-Dataset.csv')\n",
    "\n",
    "df.head(100)\n",
    " \n",
    "#print(df)\n",
    "\n"
   ]
  }
 ],
 "metadata": {
  "kernelspec": {
   "display_name": "Python 3",
   "language": "python",
   "name": "python3"
  },
  "language_info": {
   "codemirror_mode": {
    "name": "ipython",
    "version": 3
   },
   "file_extension": ".py",
   "mimetype": "text/x-python",
   "name": "python",
   "nbconvert_exporter": "python",
   "pygments_lexer": "ipython3",
   "version": "3.8.3"
  }
 },
 "nbformat": 4,
 "nbformat_minor": 4
}
