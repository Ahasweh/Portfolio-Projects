{
 "cells": [
  {
   "cell_type": "code",
   "execution_count": 1,
   "metadata": {},
   "outputs": [],
   "source": [
    "from bs4 import BeautifulSoup\n",
    "import requests\n",
    "import smtplib\n",
    "import time\n",
    "import datetime"
   ]
  },
  {
   "cell_type": "code",
   "execution_count": 14,
   "metadata": {},
   "outputs": [
    {
     "name": "stdout",
     "output_type": "stream",
     "text": [
      "\n",
      "          Python Crash Course, 2nd Edition: A Hands-On, Project-Based Introduction to Programming\n",
      "         \n",
      "The title of the book is: \n",
      "          Python Crash Course, 2nd Edition: A Hands-On, Project-Based Introduction to Programming\n",
      "         \n"
     ]
    }
   ],
   "source": [
    "# Prepare connection strings and params\n",
    "# To get the headers for your brawser, go to 'http://httpbin.org/get' and copy \n",
    "\n",
    "URL='https://www.amazon.com/Python-Crash-Course-2nd-Edition/dp/1593279280/ref=sr_1_1?crid=SL71HNE5XEYL&keywords=python+in+books&qid=1654343722&sprefix=Python+in+%2Caps%2C326&sr=8-1'\n",
    "\n",
    "\n",
    "headers = {\"User-Agent\": \"Mozilla/5.0 (Windows NT 10.0; Win64; x64) AppleWebKit/537.36 (KHTML, like Gecko) Chrome/102.0.0.0 Safari/537.36\", \"Accept-Encoding\":\"gzip, deflate\", \"Accept\":\"text/html,application/xhtml+xml,application/xml;q=0.9,*/*;q=0.8\", \"DNT\":\"1\",\"Connection\":\"close\", \"Upgrade-Insecure-Requests\":\"1\"}\n",
    "\n",
    "\n",
    "page=requests.get(URL, headers=headers)\n",
    "\n",
    "Soup1=BeautifulSoup(page.content,\"html.parser\")\n",
    "Soup2=BeautifulSoup(Soup1.prettify(),\"html.parser\")\n",
    "title=Soup2.find(id='productTitle').get_text()\n",
    "\n"
   ]
  },
  {
   "cell_type": "code",
   "execution_count": 15,
   "metadata": {},
   "outputs": [
    {
     "name": "stdout",
     "output_type": "stream",
     "text": [
      "The title of the book is:\n",
      "          Python Crash Course, 2nd Edition: A Hands-On, Project-Based Introduction to Programming\n",
      "         \n"
     ]
    }
   ],
   "source": [
    "\n",
    "#print(Soup2)\n",
    "#print(title)\n",
    "print(f\"The title of the book is:{title}\")"
   ]
  }
 ],
 "metadata": {
  "kernelspec": {
   "display_name": "Python 3",
   "language": "python",
   "name": "python3"
  },
  "language_info": {
   "codemirror_mode": {
    "name": "ipython",
    "version": 3
   },
   "file_extension": ".py",
   "mimetype": "text/x-python",
   "name": "python",
   "nbconvert_exporter": "python",
   "pygments_lexer": "ipython3",
   "version": "3.7.6"
  }
 },
 "nbformat": 4,
 "nbformat_minor": 4
}
